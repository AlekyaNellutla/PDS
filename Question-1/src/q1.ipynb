{
 "cells": [
  {
   "cell_type": "code",
   "execution_count": 1,
   "id": "a1ce55c9",
   "metadata": {},
   "outputs": [],
   "source": [
    "import pandas as pd\n",
    "import matplotlib.pyplot as plt"
   ]
  },
  {
   "cell_type": "code",
   "execution_count": 6,
   "id": "2b7664c6",
   "metadata": {},
   "outputs": [],
   "source": [
    "#conversion to same type\n",
    "df = pd.read_csv('/Users/saishantangoli/Desktop/ass/PDS/Assignments/Assg1/assg_proj/raw_data/given_raw_data.csv')\n",
    "df['BMI'] = (df['Height (Inches)']*703)/(df['Weight (Pounds)']**2)\n",
    "df.BMI = df.BMI.round(1)\n",
    "df['Person'] = df.index\n",
    "df.to_csv('/Users/saishantangoli/Desktop/ass/PDS/Assignments/Assg1/assg_proj/clean_data/processed_data1.csv')"
   ]
  },
  {
   "cell_type": "code",
   "execution_count": 7,
   "id": "9232465b",
   "metadata": {},
   "outputs": [],
   "source": [
    "#renaming\n",
    "df = pd.read_csv('/Users/saishantangoli/Desktop/ass/PDS/Assignments/Assg1/assg_proj/raw_data/given_raw_data.csv')\n",
    "df = df.rename(columns={\"Height (Inches)\": \"Height\", \"Weight (Pounds)\": \"Weight\"})\n",
    "df.to_csv('/Users/saishantangoli/Desktop/ass/PDS/Assignments/Assg1/assg_proj/clean_data/processed_data1.csv')"
   ]
  },
  {
   "cell_type": "code",
   "execution_count": 8,
   "id": "ca2565ed",
   "metadata": {},
   "outputs": [
    {
     "data": {
      "image/png": "[encoded data removed]",
      "text/plain": [
       "<Figure size 432x288 with 1 Axes>"
      ]
     },
     "metadata": {
      "needs_background": "light"
     },
     "output_type": "display_data"
    }
   ],
   "source": [
    "#plot\n",
    "plt.ylabel(\"Weight\")\n",
    "plt.title(\"Weight Analysis\")\n",
    "plt.boxplot(df.Weight)\n",
    "plt.savefig('/Users/saishantangoli/Desktop/ass/PDS/Assignments/Assg1/assg_proj/results/weight_distribution.png')"
   ]
  },
  {
   "cell_type": "code",
   "execution_count": null,
   "id": "e486f3f4",
   "metadata": {},
   "outputs": [],
   "source": []
  },
  {
   "cell_type": "code",
   "execution_count": null,
   "id": "bf6fedda",
   "metadata": {},
   "outputs": [],
   "source": []
  },
  {
   "cell_type": "code",
   "execution_count": null,
   "id": "377e66f6",
   "metadata": {},
   "outputs": [],
   "source": []
  },
  {
   "cell_type": "code",
   "execution_count": null,
   "id": "c4358f78",
   "metadata": {},
   "outputs": [],
   "source": []
  },
  {
   "cell_type": "code",
   "execution_count": null,
   "id": "dd56fcb1",
   "metadata": {},
   "outputs": [],
   "source": []
  },
  {
   "cell_type": "code",
   "execution_count": null,
   "id": "96891385",
   "metadata": {},
   "outputs": [],
   "source": []
  },
  {
   "cell_type": "code",
   "execution_count": null,
   "id": "41e5a86b",
   "metadata": {},
   "outputs": [],
   "source": []
  }
 ],
 "metadata": {
  "kernelspec": {
   "display_name": "Python 3",
   "language": "python",
   "name": "python3"
  },
  "language_info": {
   "codemirror_mode": {
    "name": "ipython",
    "version": 3
   },
   "file_extension": ".py",
   "mimetype": "text/x-python",
   "name": "python",
   "nbconvert_exporter": "python",
   "pygments_lexer": "ipython3",
   "version": "3.8.8"
  }
 },
 "nbformat": 4,
 "nbformat_minor": 5
}
